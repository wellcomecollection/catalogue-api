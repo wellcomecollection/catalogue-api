{
 "cells": [
  {
   "cell_type": "markdown",
   "metadata": {},
   "source": [
    "I made this notebook as part of the UX kickoff for location and access for items and holdings.\n",
    "It contains some functions to help me find interesting/useful examples."
   ]
  },
  {
   "cell_type": "code",
   "execution_count": 12,
   "metadata": {},
   "outputs": [],
   "source": [
    "import collections\n",
    "\n",
    "from utils import get_works\n",
    "\n",
    "\n",
    "access_terms = collections.defaultdict(set)\n",
    "\n",
    "\n",
    "for work in get_works('works-2021-04-28_holdings,id,identifiers,items.json.gz'):\n",
    "    for it in work['items']:\n",
    "        for loc in it['locations']:\n",
    "            for ac in loc['accessConditions']:\n",
    "                if 'terms' in ac:\n",
    "                    access_terms[ac['terms']].add(work['id'])"
   ]
  },
  {
   "cell_type": "code",
   "execution_count": 28,
   "metadata": {},
   "outputs": [],
   "source": [
    "import csv\n",
    "import random\n",
    "\n",
    "\n",
    "with open('access_terms.csv', 'w') as outfile:\n",
    "    writer = csv.DictWriter(outfile, fieldnames=['work_id', 'url', 'tally', 'terms'])\n",
    "    writer.writeheader()\n",
    "    for terms in sorted(access_terms.keys(), key=lambda ac: len(access_terms[ac]), reverse=True):\n",
    "        work_id = random.choice(list(access_terms[terms]))\n",
    "        writer.writerow({\n",
    "            'work_id': work_id,\n",
    "            'url': f'https://api.wellcomecollection.org/catalogue/v2/works/{work_id}?include=items',\n",
    "            'tally': len(access_terms[terms]),\n",
    "            'terms': terms\n",
    "        })"
   ]
  },
  {
   "cell_type": "code",
   "execution_count": 46,
   "metadata": {},
   "outputs": [
    {
     "name": "stdout",
     "output_type": "stream",
     "text": [
      "'.' {'uggqzpcw'}\n",
      "uggqzpcw calm-record-id/aac051a2-89f3-49d3-9d2e-8c29b24bae98\n",
      "'<p>' {'ehpqmdn6', 'xfu8cqza', 't2fznryx', 'qekxt8h5', 'uv4jd6en', 'r3tamfk8', 'sn8gf4g9', 'q6jns2ep', 'w72vehd6'}\n",
      "ehpqmdn6 calm-record-id/6cdd4611-3fb5-48ce-b14e-a4c39a4dc1ea\n",
      "xfu8cqza calm-record-id/30a8e5d9-540c-422c-b63f-add9a87b40c3\n",
      "t2fznryx calm-record-id/9d2f4c9c-bab8-45d9-a872-cf4df0b521e9\n",
      "qekxt8h5 calm-record-id/6bf5de48-758e-45ee-b2f4-23736bc80964\n",
      "uv4jd6en calm-record-id/b74da2c6-385a-4bc0-8298-e2bc5db0abbe\n",
      "r3tamfk8 calm-record-id/b576573f-a190-486d-8c4c-ef5bcac856d9\n",
      "sn8gf4g9 calm-record-id/c6310d90-cddb-4ea4-b80c-cd4d8e04cf31\n",
      "q6jns2ep calm-record-id/56ad5b7d-d6bb-4953-ae4b-f88376efad18\n",
      "w72vehd6 calm-record-id/e9a458e8-2812-4a80-ac2f-74af8ce089a6\n",
      "'Open' {'u9jxzq8c', 'a4fckekr', 'awed3n2r'}\n",
      "u9jxzq8c sierra-system-number/b16556732\n",
      "a4fckekr sierra-system-number/b16556744\n",
      "awed3n2r sierra-system-number/b1656229x\n",
      "'Closed' {'paybk2yj'}\n",
      "paybk2yj calm-record-id/deb1cdd1-4e1f-4457-9dc4-1bdf25a12c37\n",
      "'<p></p>' {'w4yg5syw', 't6thffk3', 'hazq8d2z', 'r46w6wmq', 'agv7k8z9'}\n",
      "w4yg5syw calm-record-id/7970e873-06b9-43b5-91ac-4ef2c89bba8e\n",
      "t6thffk3 calm-record-id/0d143f86-d373-445b-8fd9-606a2714f6bb\n",
      "hazq8d2z calm-record-id/05a2a78a-4262-4256-b2ac-bd063785d2aa\n",
      "r46w6wmq calm-record-id/c58aca99-6882-4542-948b-6ed777a8b82b\n",
      "agv7k8z9 calm-record-id/b8e2cfdf-1fe9-4d11-bf94-acd9fd10a528\n",
      "'Restricted.' {'h95axktk', 'yedqmmxp', 'asxxjrn7'}\n",
      "h95axktk sierra-system-number/b20152784\n",
      "yedqmmxp sierra-system-number/b28546295\n",
      "asxxjrn7 sierra-system-number/b28572646\n",
      "'Unrestricted / Open.' {'bdv9vhaf'}\n",
      "bdv9vhaf sierra-system-number/b30438731\n",
      "'This item is missing' {'aw3zzuyp', 'yhxgb94f'}\n",
      "aw3zzuyp calm-record-id/3481c306-15d4-4278-bab3-911934d8d04d\n",
      "yhxgb94f calm-record-id/c40bd108-f8ba-4608-a617-2d8cee01f347\n",
      "'This item is missing.' {'p9dcd3dm', 'srfvs9tk', 'jduvssbn', 'qegxpjpb', 'swd4uuq2', 'qycxr4r6', 'qwzeuqkv'}\n",
      "p9dcd3dm calm-record-id/37e5c29a-32da-46fb-b573-316c7fdb260a\n",
      "srfvs9tk calm-record-id/19d70e40-69a8-494f-888f-2546523d6797\n",
      "jduvssbn calm-record-id/6ffa57ed-430b-4c6d-ae51-aae59776f592\n",
      "qegxpjpb calm-record-id/52a16622-438e-4e10-aa7d-e0d583a17a45\n",
      "swd4uuq2 calm-record-id/df0b59b0-ab12-4171-be17-b88ffbe861e4\n",
      "qycxr4r6 calm-record-id/62d441ae-cb05-47cb-82e5-88d59cfff069\n",
      "qwzeuqkv calm-record-id/eef8517d-6720-478e-a52a-cbda28d64655\n",
      "'Restricted until 2085.' {'xbemkmh8'}\n",
      "xbemkmh8 sierra-system-number/b17744660\n",
      "'Note. This file is MISSING.' {'kkhhq6n9'}\n",
      "kkhhq6n9 calm-record-id/6130a7e5-87c7-4b8a-be0a-3bb2f90b7e18\n",
      "'Restricted until 01/01/2034.' {'p3pw5et9'}\n",
      "p3pw5et9 sierra-system-number/b28546155\n",
      "'Restricted until 01/01/2042.' {'wf68yw28'}\n",
      "wf68yw28 sierra-system-number/b2854626x\n",
      "'Restricted until 01/01/2028.' {'yedqmmxp'}\n",
      "yedqmmxp sierra-system-number/b28546295\n",
      "'Restricted until 01/01/2040.' {'xp2bwkqm'}\n",
      "xp2bwkqm sierra-system-number/b28703704\n",
      "'sa_fpa_a4_c3_1_box_57_b1919299x' {'waycc8m3'}\n",
      "waycc8m3 calm-record-id/03a9a822-c45c-4296-826a-6fa12af87c72\n",
      "'Folder currently at Conservation' {'tessttup'}\n",
      "tessttup calm-record-id/0231a9f1-cc2b-4f23-b5a9-7d492783ba2b\n",
      "'Not available for general access.' {'vyx8gg3y', 'f3cvnham', 'tjz53nqb', 'dmqkwsg5', 'kajtvjuy', 'mtz2b9vw'}\n",
      "vyx8gg3y calm-record-id/fa5a6ae0-457a-4b6e-a671-5df33a70b5b9\n",
      "f3cvnham calm-record-id/56289261-1d5d-454e-a379-6a4b4c7338bd\n",
      "tjz53nqb calm-record-id/326fea6b-386f-48cd-891a-8545fa6d1d87\n",
      "dmqkwsg5 calm-record-id/0facbea1-4b2f-42b1-9128-068a67c79a45\n",
      "kajtvjuy calm-record-id/6ba78f0b-b426-40b2-9c6d-a6e35afeb1a0\n",
      "mtz2b9vw calm-record-id/502a554a-aced-40f4-b590-42328849f3ea\n",
      "'Please note this item is missing.' {'jpbu8cea'}\n",
      "jpbu8cea calm-record-id/eac8dccc-1f0f-4275-86f0-9582c86978cb\n",
      "'This item is unfit for production' {'sfpdsh97'}\n",
      "sfpdsh97 calm-record-id/c91b6f40-13ad-4012-90a8-7643fc9ba18e\n",
      "\n",
      "This collection is currently uncatalogued and cannot be ordered online. Requests to view uncatalogued material are considered on a case by case basis. Please contact collections@wellcomecollection.org for more details.We regret that we are unable to provide access to archive collections until they have been fully catalogued. <p>Please note that this archive contains some patient data.  When the archive is catalogued, the patient data will require closure for the lifetime of the data subjects in accordance with the 1998 Data Protection Act.   For fuller information on how the library handles sensitive archival data, see our  <a href=\"http://library.wellcome.ac.uk/assets/WTX063805.pdf\" target=\"_blank\">Access to Archives policy</a>.  For more information, please contact the Archives and Manuscripts department.\n"
     ]
    }
   ],
   "source": [
    "def get_source_identifier(work_id):\n",
    "    resp = httpx.get(\n",
    "        f\"https://api.wellcomecollection.org/catalogue/v2/works/{work_id}\",\n",
    "        params={\"include\": \"identifiers\"}\n",
    "    )\n",
    "    \n",
    "    work = resp.json()\n",
    "    source_identifier = work[\"identifiers\"][0]\n",
    "    \n",
    "    return f\"{source_identifier['identifierType']['id']}/{source_identifier['value']}\"\n",
    "\n",
    "by_length = sorted(access_terms.keys(), key=len)\n",
    "\n",
    "for l in by_length[:20]:\n",
    "    print(repr(l), access_terms[l])\n",
    "    for work_id in access_terms[l]:\n",
    "        print(work_id, get_source_identifier(work_id))\n",
    "print(\"\")\n",
    "print(by_length[-1])"
   ]
  },
  {
   "cell_type": "code",
   "execution_count": null,
   "metadata": {},
   "outputs": [],
   "source": []
  }
 ],
 "metadata": {
  "kernelspec": {
   "display_name": "Python 3",
   "language": "python",
   "name": "python3"
  },
  "language_info": {
   "codemirror_mode": {
    "name": "ipython",
    "version": 3
   },
   "file_extension": ".py",
   "mimetype": "text/x-python",
   "name": "python",
   "nbconvert_exporter": "python",
   "pygments_lexer": "ipython3",
   "version": "3.9.4"
  }
 },
 "nbformat": 4,
 "nbformat_minor": 4
}
